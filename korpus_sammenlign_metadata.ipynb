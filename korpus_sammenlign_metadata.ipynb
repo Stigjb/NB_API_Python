{
 "cells": [
  {
   "cell_type": "markdown",
   "metadata": {},
   "source": [
    "# Undersøk korpus med metadata\n",
    "\n",
    "Notebook for å undersøke korpus med metadata\n"
   ]
  },
  {
   "cell_type": "code",
   "execution_count": 5,
   "metadata": {},
   "outputs": [],
   "source": [
    "import nbtext as nb\n",
    "from nbtext import Corpus\n",
    "%matplotlib inline"
   ]
  },
  {
   "cell_type": "code",
   "execution_count": 6,
   "metadata": {},
   "outputs": [
    {
     "data": {
      "text/plain": [
       "<module 'nbtext' from 'C:\\\\Users\\\\larsj\\\\Downloads\\\\NB_Python_API-master\\\\nbtext.py'>"
      ]
     },
     "execution_count": 6,
     "metadata": {},
     "output_type": "execute_result"
    }
   ],
   "source": [
    "import imp\n",
    "imp.reload(nb)"
   ]
  },
  {
   "cell_type": "markdown",
   "metadata": {},
   "source": [
    "\n",
    "<h3> <span style=\"color:gray;font-family:'Comic Sans MS';\">\n",
    "Hva som gjøres\n",
    "</span></h3><br>\n",
    "<div style=\"font-family:'Palatino Linotype';font-size:1.2em\">\n",
    "<p>Her bygges korpuset med et implisitt sammenligningskorpus, eller referansekorpus. Målkorpuset er begrenset til periode (*period*) og de andre parametrene som forfatter (*author*), Dewey (*ddk*) og emneord (*subject*). Referansekorpuset er et vilkårlig utvalg av tekster fra samme periode.</p>\n",
    "\n",
    "</span></h3>\n",
    "</div>"
   ]
  },
  {
   "cell_type": "code",
   "execution_count": 94,
   "metadata": {},
   "outputs": [
    {
     "data": {
      "text/html": [
       "<table><tr>\n",
       "                <td>\n",
       "                    <a href='http://www.nb.no/items/URN:NBN:no-nb_digibok_2013071008140' target='_'>,Nordjylland under Englandskrigen 1807-1814,2009</a>\n",
       "                    <td>tilbage i</td>\n",
       "                    <td>armod</td>\n",
       "                    <td style='text-align:left'>, nar</td>\n",
       "                    </tr>\n",
       "<tr>\n",
       "                <td>\n",
       "                    <a href='http://www.nb.no/items/URN:NBN:no-nb_digibok_2013071008140' target='_'>,Nordjylland under Englandskrigen 1807-1814,2009</a>\n",
       "                    <td>. En</td>\n",
       "                    <td>armod</td>\n",
       "                    <td style='text-align:left'>der føltes</td>\n",
       "                    </tr>\n",
       "<tr>\n",
       "                <td>\n",
       "                    <a href='http://www.nb.no/items/URN:NBN:no-nb_digibok_2013071008140' target='_'>,Nordjylland under Englandskrigen 1807-1814,2009</a>\n",
       "                    <td>ekspresruten fra</td>\n",
       "                    <td>armod</td>\n",
       "                    <td style='text-align:left'>til velstand</td>\n",
       "                    </tr>\n",
       "<tr>\n",
       "                <td>\n",
       "                    <a href='http://www.nb.no/items/URN:NBN:no-nb_digibok_2013071008140' target='_'>,Nordjylland under Englandskrigen 1807-1814,2009</a>\n",
       "                    <td>den yderste</td>\n",
       "                    <td>armod</td>\n",
       "                    <td style='text-align:left'>, da</td>\n",
       "                    </tr>\n",
       "<tr>\n",
       "                <td>\n",
       "                    <a href='http://www.nb.no/items/URN:NBN:no-nb_digibok_2010050403081' target='_'>Steinfeld, Hans Wilhelm,Solsikkene på Balkan,1999</a>\n",
       "                    <td>Hoste ,</td>\n",
       "                    <td>armod</td>\n",
       "                    <td style='text-align:left'>og kjærlighet</td>\n",
       "                    </tr>\n",
       "<tr>\n",
       "                <td>\n",
       "                    <a href='http://www.nb.no/items/URN:NBN:no-nb_digibok_2013020106051' target='_'>Aarset, Ane-Charlotte Five,Kavaleristen,2007</a>\n",
       "                    <td>slit og</td>\n",
       "                    <td>armod</td>\n",
       "                    <td style='text-align:left'>. Faren</td>\n",
       "                    </tr>\n",
       "<tr>\n",
       "                <td>\n",
       "                    <a href='http://www.nb.no/items/URN:NBN:no-nb_digibok_2014073108009' target='_'>Andersen, Dan H.,Tordenskjold,2006</a>\n",
       "                    <td>sidder i</td>\n",
       "                    <td>armod</td>\n",
       "                    <td style='text-align:left'>» .</td>\n",
       "                    </tr>\n",
       "<tr>\n",
       "                <td>\n",
       "                    <a href='http://www.nb.no/items/URN:NBN:no-nb_digibok_2007122110003' target='_'>Garborg, Arne,Vaknande spursmaal,1915</a>\n",
       "                    <td>sida ei</td>\n",
       "                    <td>armod</td>\n",
       "                    <td style='text-align:left'>som tærde</td>\n",
       "                    </tr>\n",
       "<tr>\n",
       "                <td>\n",
       "                    <a href='http://www.nb.no/items/URN:NBN:no-nb_digibok_2007122110003' target='_'>Garborg, Arne,Vaknande spursmaal,1915</a>\n",
       "                    <td>ned i</td>\n",
       "                    <td>armod</td>\n",
       "                    <td style='text-align:left'>.</td>\n",
       "                    </tr>\n",
       "<tr>\n",
       "                <td>\n",
       "                    <a href='http://www.nb.no/items/URN:NBN:no-nb_digibok_2011053108120' target='_'>Russell, Bertrand,Bertrand Russell om krig, fred og pasifisme,2006</a>\n",
       "                    <td>nød og</td>\n",
       "                    <td>armod</td>\n",
       "                    <td style='text-align:left'>hengende over</td>\n",
       "                    </tr>\n",
       "<tr>\n",
       "                <td>\n",
       "                    <a href='http://www.nb.no/items/URN:NBN:no-nb_digibok_2007083001012' target='_'>Bratteli, Randi,Vi som aldri kan glemme,1990</a>\n",
       "                    <td>i ren</td>\n",
       "                    <td>armod</td>\n",
       "                    <td style='text-align:left'>. Ikke</td>\n",
       "                    </tr>\n",
       "<tr>\n",
       "                <td>\n",
       "                    <a href='http://www.nb.no/items/URN:NBN:no-nb_digibok_2011070405120' target='_'>Noreng, Øystein,Olje på bålet,2003</a>\n",
       "                    <td>enn dagens</td>\n",
       "                    <td>armod</td>\n",
       "                    <td style='text-align:left'>, er</td>\n",
       "                    </tr>\n",
       "<tr>\n",
       "                <td>\n",
       "                    <a href='http://www.nb.no/items/URN:NBN:no-nb_digibok_2015111308014' target='_'>,Psykologiens yttergrenser,2009</a>\n",
       "                    <td>and widespread</td>\n",
       "                    <td>armod</td>\n",
       "                    <td style='text-align:left'>conflict between</td>\n",
       "                    </tr>\n",
       "<tr>\n",
       "                <td>\n",
       "                    <a href='http://www.nb.no/items/URN:NBN:no-nb_digibok_2010051006034' target='_'>Øvrebø, Egil,I kongens teneste,1996</a>\n",
       "                    <td>. For</td>\n",
       "                    <td>armod</td>\n",
       "                    <td style='text-align:left'>fraviiget gaarden</td>\n",
       "                    </tr>\n",
       "<tr>\n",
       "                <td>\n",
       "                    <a href='http://www.nb.no/items/URN:NBN:no-nb_digibok_2012011306030' target='_'>Skarstein, Karl Jakob,Krigen mot siouxene,2005</a>\n",
       "                    <td>til håpløs</td>\n",
       "                    <td>armod</td>\n",
       "                    <td style='text-align:left'>, på</td>\n",
       "                    </tr>\n",
       "<tr>\n",
       "                <td>\n",
       "                    <a href='http://www.nb.no/items/URN:NBN:no-nb_digibok_2011102424009' target='_'>Lae, M.,Krig og fred,1901</a>\n",
       "                    <td>den yderste</td>\n",
       "                    <td>armod</td>\n",
       "                    <td style='text-align:left'>. Paa</td>\n",
       "                    </tr>\n",
       "</table>"
      ],
      "text/plain": [
       "<IPython.core.display.HTML object>"
      ]
     },
     "execution_count": 94,
     "metadata": {},
     "output_type": "execute_result"
    }
   ],
   "source": [
    "nb.get_konk('armod',{'before':2, 'after':2, 'corpus':'bok', 'size':20, 'yearfrom':1900, 'yearto':2060, 'subject':'krig'}, kind='html')"
   ]
  },
  {
   "cell_type": "code",
   "execution_count": 78,
   "metadata": {},
   "outputs": [],
   "source": [
    "urns = [x[0] for x in nb.get_urn({'author':'qvigs%', 'title':'nord%', 'limit':10, 'yearfrom':1800, 'next':100})]"
   ]
  },
  {
   "cell_type": "code",
   "execution_count": null,
   "metadata": {},
   "outputs": [],
   "source": [
    "Varig lenke\n",
    "https://urn.nb.no/URN:NBN:no-nb_digibok_2009021703010"
   ]
  },
  {
   "cell_type": "code",
   "execution_count": 79,
   "metadata": {},
   "outputs": [
    {
     "data": {
      "text/plain": [
       "[]"
      ]
     },
     "execution_count": 79,
     "metadata": {},
     "output_type": "execute_result"
    }
   ],
   "source": [
    "\n",
    "urns"
   ]
  },
  {
   "cell_type": "code",
   "execution_count": 80,
   "metadata": {},
   "outputs": [
    {
     "data": {
      "text/html": [
       "<table><tr>\n",
       "                <td>\n",
       "                    <a href='http://www.nb.no/items/URN:NBN:no-nb_digibok_2009021703010' target='_blank' style='text-decoration:none'>Nordische Lehnwörter im Lappischen, Qvigstad, Just, 1893</a>\n",
       "                </td>\n",
       "                <td>dåiman = lp . F . dlma —</td>\n",
       "                <td>vi</td>\n",
       "                <td style='text-align:left'>ist aus ei unter dem Einfluss eines u</td>\n",
       "            </tr>\n",
       "<tr>\n",
       "                <td>\n",
       "                    <a href='http://www.nb.no/items/URN:NBN:no-nb_digibok_2009021703010' target='_blank' style='text-decoration:none'>Nordische Lehnwörter im Lappischen, Qvigstad, Just, 1893</a>\n",
       "                </td>\n",
       "                <td>4 )</td>\n",
       "                <td>vi</td>\n",
       "                <td style='text-align:left'>( Hi ) : blidga ( s .</td>\n",
       "            </tr>\n",
       "<tr>\n",
       "                <td>\n",
       "                    <a href='http://www.nb.no/items/URN:NBN:no-nb_digibok_2009021703010' target='_blank' style='text-decoration:none'>Nordische Lehnwörter im Lappischen, Qvigstad, Just, 1893</a>\n",
       "                </td>\n",
       "                <td>prubvie , ( Jmt . ) pro °</td>\n",
       "                <td>vi</td>\n",
       "                <td style='text-align:left'>, Brief</td>\n",
       "            </tr>\n",
       "<tr>\n",
       "                <td>\n",
       "                    <a href='http://www.nb.no/items/URN:NBN:no-nb_digibok_2009021703010' target='_blank' style='text-decoration:none'>Nordische Lehnwörter im Lappischen, Qvigstad, Just, 1893</a>\n",
       "                </td>\n",
       "                <td>id . , aus fn . Pr ei</td>\n",
       "                <td>vi</td>\n",
       "                <td style='text-align:left'>.</td>\n",
       "            </tr>\n",
       "</table>"
      ],
      "text/plain": [
       "<IPython.core.display.HTML object>"
      ]
     },
     "execution_count": 80,
     "metadata": {},
     "output_type": "execute_result"
    }
   ],
   "source": [
    "nb.get_urnkonk('vi', {'urns':[2009021703010], 'before':8, 'after':8, 'size':4}, html=True)"
   ]
  },
  {
   "cell_type": "code",
   "execution_count": 81,
   "metadata": {},
   "outputs": [],
   "source": [
    "objekt = Corpus(\n",
    "    period=(1950, 2010),\n",
    "    title='%',\n",
    "    subject='krig',\n",
    "    ddk='%',\n",
    "    reference=50,\n",
    "    max_books=50)"
   ]
  },
  {
   "cell_type": "markdown",
   "metadata": {},
   "source": [
    "## Undersøk forskjeller\n",
    "\n",
    "Dataene viser forskjellem mellom målkorpus og referanse. Se på differansen med kommandoen *difference* som tar et sett parametre. De viktigste for analysen er *freq_exp* som vekter frekvensen til ordene i målkorpuset, og *doc_exp* som vekter dokumentfrekvensen i målkorpuset.\n",
    "\n",
    "Settes verdien for *top* lik null får du hele korpuset.\n"
   ]
  },
  {
   "cell_type": "code",
   "execution_count": 82,
   "metadata": {},
   "outputs": [
    {
     "data": {
      "text/html": [
       "<div>\n",
       "<style scoped>\n",
       "    .dataframe tbody tr th:only-of-type {\n",
       "        vertical-align: middle;\n",
       "    }\n",
       "\n",
       "    .dataframe tbody tr th {\n",
       "        vertical-align: top;\n",
       "    }\n",
       "\n",
       "    .dataframe thead th {\n",
       "        text-align: right;\n",
       "    }\n",
       "</style>\n",
       "<table border=\"1\" class=\"dataframe\">\n",
       "  <thead>\n",
       "    <tr style=\"text-align: right;\">\n",
       "      <th></th>\n",
       "      <th>diff</th>\n",
       "    </tr>\n",
       "  </thead>\n",
       "  <tbody>\n",
       "    <tr>\n",
       "      <th>krig</th>\n",
       "      <td>0.023752</td>\n",
       "    </tr>\n",
       "    <tr>\n",
       "      <th>krigen</th>\n",
       "      <td>0.021974</td>\n",
       "    </tr>\n",
       "    <tr>\n",
       "      <th>våpen</th>\n",
       "      <td>0.020445</td>\n",
       "    </tr>\n",
       "    <tr>\n",
       "      <th>soldater</th>\n",
       "      <td>0.020413</td>\n",
       "    </tr>\n",
       "    <tr>\n",
       "      <th>angrep</th>\n",
       "      <td>0.018757</td>\n",
       "    </tr>\n",
       "    <tr>\n",
       "      <th>soldatene</th>\n",
       "      <td>0.017592</td>\n",
       "    </tr>\n",
       "    <tr>\n",
       "      <th>Og</th>\n",
       "      <td>0.017365</td>\n",
       "    </tr>\n",
       "    <tr>\n",
       "      <th>kamp</th>\n",
       "      <td>0.017363</td>\n",
       "    </tr>\n",
       "    <tr>\n",
       "      <th>allierte</th>\n",
       "      <td>0.017169</td>\n",
       "    </tr>\n",
       "    <tr>\n",
       "      <th>tyske</th>\n",
       "      <td>0.017112</td>\n",
       "    </tr>\n",
       "  </tbody>\n",
       "</table>\n",
       "</div>"
      ],
      "text/plain": [
       "               diff\n",
       "krig       0.023752\n",
       "krigen     0.021974\n",
       "våpen      0.020445\n",
       "soldater   0.020413\n",
       "angrep     0.018757\n",
       "soldatene  0.017592\n",
       "Og         0.017365\n",
       "kamp       0.017363\n",
       "allierte   0.017169\n",
       "tyske      0.017112"
      ]
     },
     "execution_count": 82,
     "metadata": {},
     "output_type": "execute_result"
    }
   ],
   "source": [
    "objekt.difference(top=10, aslist=False, freq_exp=1.1, doc_exp=1.5)"
   ]
  },
  {
   "cell_type": "code",
   "execution_count": 83,
   "metadata": {},
   "outputs": [
    {
     "data": {
      "text/html": [
       "ovf., krig, våpen, vart, soldater, soldatene, allierte, angrep, Grini, Are, krigen, Albert, Afghanistan, Israel, tyske, kamp, tyskerne, kongen, f.nr, freden, Hitler, Jugoslavia, regjering, hæren, fanger, Krig, ank., arms, die, FNs, Am, war, hær, konge, Krigen, styrkene, weapons, War, spør, fange, slaget, slag, makten, krigføring, refugees, angrepet, Russland, ordre, drept, Milosevic, FN, drepte, fiende, verdens, våpnene, verste, offiserer, president, låg, sivile, Knut, amerikanerne, Sverre, South, sør, ild, Då, verk, kriger, fronten, Kosovo, serbiske, General, 42., Akershus, militære, skipene, und, Irak, Kongen, krøp, 1943, kampen, countries, bin, nasjonale, among, grensen, skutt, Olvar, Olemann, Hamdi, kampene, Alwina, Soldatene, Håkon, Ben, 1944, health, kanoner, stein, Laden, Jan, Kong, bombet, angripe, øst, forsvare, forhandlingene, religion, Christian, Asia, offiser, World, FABRITIUS, Heinrich, militær, bomber, Pakistan, kong, But, violence, 45., control, fangene, kongens, Bosnia, regjeringen, sårede, styrken, myndighet, Røde, festning, THE, life, kirkens, military, Kabul, tap, America, partene, Åberg, tapt, statens, befolkningen, Fred, Stian, britiske, vaksne, kaptein"
      ],
      "text/plain": [
       "<IPython.core.display.HTML object>"
      ]
     },
     "execution_count": 83,
     "metadata": {},
     "output_type": "execute_result"
    }
   ],
   "source": [
    "objekt.difference(top=150)"
   ]
  },
  {
   "cell_type": "markdown",
   "metadata": {},
   "source": [
    "<h3> <span style=\"color:gray;font-family:'Arial';\">\n",
    "Metadata for objektet\n",
    "</span></h3><br><div style=\"font-family:'Palatino Linotype';font-size:1.2em\">\n",
    "<p>Objektet bærer med seg informasjon om hva det består av. Bruk *objekt.summary()* for å inspisere</p>\n",
    "\n",
    "</span></h3>\n",
    "</div>"
   ]
  },
  {
   "cell_type": "code",
   "execution_count": null,
   "metadata": {},
   "outputs": [],
   "source": [
    "objekt.summary()"
   ]
  },
  {
   "cell_type": "markdown",
   "metadata": {
    "collapsed": true
   },
   "source": [
    "### Søk etter sett av ord i clustret\n",
    "\n",
    "Finn verdien for ord i clusteret med objekt.check_words('o1 o2 o3 ... oN') med opsjonell spesifikasjon av eksponent. Bare list ordene opp med mellomrom, ord som ikke er i clusteret vil heller ikke vises. Alle andre vises med assosiasjonsverdien og sorteres var høy til lav. Tittel på kolonnen gir en påminnelse om ordet listen er kollokert fra."
   ]
  },
  {
   "cell_type": "code",
   "execution_count": null,
   "metadata": {},
   "outputs": [],
   "source": [
    "objekt.search_words( 'sår krig . , gevær våpen generaler soldater blod fattigdom nød')"
   ]
  },
  {
   "cell_type": "markdown",
   "metadata": {
    "collapsed": true
   },
   "source": [
    "## Dataene kan lagres for å hentes frem igjen. Nyttig for å dele data eller for å gjøre dem tilgjengelig for andre analyseredskaper\n",
    "\n",
    "\n",
    "Spesifiser et filnavn, eller la det stå åpent. I så fall bygges filnavnet fra ordet og perioden. Filen lagres i samme mappe som notebooken."
   ]
  },
  {
   "cell_type": "code",
   "execution_count": null,
   "metadata": {},
   "outputs": [],
   "source": [
    "objekt.save('korpus_test.json')"
   ]
  },
  {
   "cell_type": "markdown",
   "metadata": {},
   "source": [
    "Last inn det lagrede korpuset og underøk det på samme måte som for ferskbyggede. Bruk *nytt_objekt = Corpus(filename='filavn')*, bytt gjerne ut *nytt_objekt* med et mer deskriptivt navn."
   ]
  },
  {
   "cell_type": "code",
   "execution_count": null,
   "metadata": {},
   "outputs": [],
   "source": [
    "nytt_objekt = Corpus(filename='korpus_test.json')\n"
   ]
  },
  {
   "cell_type": "markdown",
   "metadata": {},
   "source": [
    "\n",
    "Sjekk at *nytt_objekt* gjør det samme som det opprinnelige korpuset."
   ]
  },
  {
   "cell_type": "code",
   "execution_count": null,
   "metadata": {},
   "outputs": [],
   "source": [
    "nytt_objekt.difference()"
   ]
  },
  {
   "cell_type": "code",
   "execution_count": null,
   "metadata": {},
   "outputs": [],
   "source": [
    "nb.cloud(nytt_objekt.difference(aslist=False))"
   ]
  },
  {
   "cell_type": "code",
   "execution_count": null,
   "metadata": {},
   "outputs": [],
   "source": []
  },
  {
   "cell_type": "code",
   "execution_count": null,
   "metadata": {},
   "outputs": [],
   "source": []
  }
 ],
 "metadata": {
  "hide_input": false,
  "kernelspec": {
   "display_name": "Python 3",
   "language": "python",
   "name": "python3"
  },
  "language_info": {
   "codemirror_mode": {
    "name": "ipython",
    "version": 3
   },
   "file_extension": ".py",
   "mimetype": "text/x-python",
   "name": "python",
   "nbconvert_exporter": "python",
   "pygments_lexer": "ipython3",
   "version": "3.6.5"
  }
 },
 "nbformat": 4,
 "nbformat_minor": 2
}
