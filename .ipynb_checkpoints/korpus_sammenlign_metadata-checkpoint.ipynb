{
 "cells": [
  {
   "cell_type": "markdown",
   "metadata": {},
   "source": [
    "# Undersøk korpus med metadata\n",
    "\n",
    "Notebook for å undersøke korpus med metadata\n"
   ]
  },
  {
   "cell_type": "code",
   "execution_count": 2,
   "metadata": {},
   "outputs": [],
   "source": [
    "import nbtext as nb\n",
    "from nbtext import Corpus\n",
    "%matplotlib inline"
   ]
  },
  {
   "cell_type": "markdown",
   "metadata": {},
   "source": [
    "Kommandoen for å lage et korpus er *Corpus()* som bygger et korpus av tekster som sammenlignes med en referanse. I det her eksemplet bygges referansen samtidig, men i et ideelt tilfelle kan vi ønske å la referansen være ferdigbygd et sted."
   ]
  },
  {
   "cell_type": "code",
   "execution_count": 3,
   "metadata": {},
   "outputs": [],
   "source": [
    "objekt = Corpus(\n",
    "    period=(1950, 2010),\n",
    "    title='%',\n",
    "    subject='krig',\n",
    "    ddk='%',\n",
    "    reference=50,\n",
    "    max_books=50)"
   ]
  },
  {
   "cell_type": "markdown",
   "metadata": {},
   "source": [
    "## Undersøk forskjeller\n",
    "\n",
    "Dataene viser forskjellem mellom målkorpus og referanse. Se på differansen med kommandoen *difference* som tar et sett parametre. De viktigste for analysen er *freq_exp* som vekter frekvensen til ordene i målkorpuset, og *doc_exp* som vekter dokumentfrekvensen i målkorpuset.\n",
    "\n",
    "Settes verdien for *top* lik null får du hele korpuset.\n"
   ]
  },
  {
   "cell_type": "code",
   "execution_count": 4,
   "metadata": {},
   "outputs": [
    {
     "data": {
      "text/html": [
       "<div>\n",
       "<style scoped>\n",
       "    .dataframe tbody tr th:only-of-type {\n",
       "        vertical-align: middle;\n",
       "    }\n",
       "\n",
       "    .dataframe tbody tr th {\n",
       "        vertical-align: top;\n",
       "    }\n",
       "\n",
       "    .dataframe thead th {\n",
       "        text-align: right;\n",
       "    }\n",
       "</style>\n",
       "<table border=\"1\" class=\"dataframe\">\n",
       "  <thead>\n",
       "    <tr style=\"text-align: right;\">\n",
       "      <th></th>\n",
       "      <th>diff</th>\n",
       "    </tr>\n",
       "  </thead>\n",
       "  <tbody>\n",
       "    <tr>\n",
       "      <th>krigen</th>\n",
       "      <td>0.035004</td>\n",
       "    </tr>\n",
       "    <tr>\n",
       "      <th>soldater</th>\n",
       "      <td>0.029886</td>\n",
       "    </tr>\n",
       "    <tr>\n",
       "      <th>krig</th>\n",
       "      <td>0.028264</td>\n",
       "    </tr>\n",
       "    <tr>\n",
       "      <th>var</th>\n",
       "      <td>0.024669</td>\n",
       "    </tr>\n",
       "    <tr>\n",
       "      <th>hadde</th>\n",
       "      <td>0.023833</td>\n",
       "    </tr>\n",
       "    <tr>\n",
       "      <th>tyskerne</th>\n",
       "      <td>0.023191</td>\n",
       "    </tr>\n",
       "    <tr>\n",
       "      <th>soldatene</th>\n",
       "      <td>0.022990</td>\n",
       "    </tr>\n",
       "    <tr>\n",
       "      <th>militære</th>\n",
       "      <td>0.022820</td>\n",
       "    </tr>\n",
       "    <tr>\n",
       "      <th>tyske</th>\n",
       "      <td>0.022657</td>\n",
       "    </tr>\n",
       "    <tr>\n",
       "      <th>Han</th>\n",
       "      <td>0.022290</td>\n",
       "    </tr>\n",
       "  </tbody>\n",
       "</table>\n",
       "</div>"
      ],
      "text/plain": [
       "               diff\n",
       "krigen     0.035004\n",
       "soldater   0.029886\n",
       "krig       0.028264\n",
       "var        0.024669\n",
       "hadde      0.023833\n",
       "tyskerne   0.023191\n",
       "soldatene  0.022990\n",
       "militære   0.022820\n",
       "tyske      0.022657\n",
       "Han        0.022290"
      ]
     },
     "execution_count": 4,
     "metadata": {},
     "output_type": "execute_result"
    }
   ],
   "source": [
    "objekt.difference(top=10, aslist=False, freq_exp=1.1, doc_exp=1.5)"
   ]
  },
  {
   "cell_type": "code",
   "execution_count": 5,
   "metadata": {},
   "outputs": [
    {
     "data": {
      "text/html": [
       "krigen, tyskerne, soldater, bestemor, militære, flyktninger, krig, tyske, styrker, militær, soldatene, fanger, FN, forsvar, Florian, president, Rwanda, fangene, saa, PTSD, konflikt, Bagdad, våpen, Olemann, Hitler, JEG, styrkene, fly, Aschehoug, FNs, Saddam, FABRITIUS, krigens, Irak, sårede, Nelson, partene, gråte, Tyskland, offiser, troppene, konflikter, presidenten, political, allierte, flyet, trauma, tillatelse, kjelleren, ofre, Art, Kim, violence, tyskernes, tysk, sendt, operasjoner, posttraumatic, fryktet, hæren, forbudt, bombet, Gullvåg, af, stridsvogner, Emil, Afghanistan, Krig, Frankrike, bomber, leirene, sivile, VAR, fredstid, disorder, tutsiene, offiserer, omkom, hvad, soldat, leiren, forhandlingene, tutsier, parter, raketter, Stalingrad, angrep, kampene, hutuer, PE, PET, symptoms, aksjoner, miner, fengslet, vatn, skyte, svenskene, funksjonsstans, britiske, measures, beordret, Stian, konflikten, ey, Hussein, bombene, irakiske, Grini, marsjerte, edb-tjenester, Tanzania, Sovjetunionen, atomvåpen, tyskere, franskmennene, HAN, MEG, Aliya, offisielle, militært, research, styrken, psychosocial, flyktet, menneskeheten, Alexander, Julia, farmor, påkjenninger, tropper, Doktor, philos, oppdraget, ytterste, opplevelser, søsteren, UD, fløy, Psychiatry, kompani, krigsbarn, traumatic, vogna, responses, svarar, etterkrigstiden, ennu, kanoner, ‘"
      ],
      "text/plain": [
       "<IPython.core.display.HTML object>"
      ]
     },
     "execution_count": 5,
     "metadata": {},
     "output_type": "execute_result"
    }
   ],
   "source": [
    "objekt.difference(top=150)"
   ]
  },
  {
   "cell_type": "markdown",
   "metadata": {},
   "source": []
  },
  {
   "cell_type": "code",
   "execution_count": null,
   "metadata": {},
   "outputs": [],
   "source": [
    "objekt.summary()"
   ]
  },
  {
   "cell_type": "markdown",
   "metadata": {
    "collapsed": true
   },
   "source": [
    "### Søk etter sett av ord i clustret\n",
    "\n",
    "Finn verdien for ord i clusteret med objekt.check_words('o1 o2 o3 ... oN') med opsjonell spesifikasjon av eksponent. Bare list ordene opp med mellomrom, ord som ikke er i clusteret vil heller ikke vises. Alle andre vises med assosiasjonsverdien og sorteres var høy til lav. Tittel på kolonnen gir en påminnelse om ordet listen er kollokert fra."
   ]
  },
  {
   "cell_type": "code",
   "execution_count": null,
   "metadata": {},
   "outputs": [],
   "source": [
    "objekt.search_words( 'sår krig . , gevær våpen generaler soldater blod fattigdom nød')"
   ]
  },
  {
   "cell_type": "markdown",
   "metadata": {
    "collapsed": true
   },
   "source": [
    "## Dataene kan lagres for å hentes frem igjen. Nyttig for å dele data eller for å gjøre dem tilgjengelig for andre analyseredskaper\n",
    "\n",
    "\n",
    "Spesifiser et filnavn, eller la det stå åpent. I så fall bygges filnavnet fra ordet og perioden. Filen lagres i samme mappe som notebooken."
   ]
  },
  {
   "cell_type": "code",
   "execution_count": null,
   "metadata": {},
   "outputs": [],
   "source": [
    "objekt.save('korpus_test.json')"
   ]
  },
  {
   "cell_type": "markdown",
   "metadata": {},
   "source": [
    "Last inn det lagrede korpuset og underøk det på samme måte som for ferskbyggede. Bruk *nytt_objekt = Corpus(filename='filavn')*, bytt gjerne ut *nytt_objekt* med et mer deskriptivt navn."
   ]
  },
  {
   "cell_type": "code",
   "execution_count": null,
   "metadata": {},
   "outputs": [],
   "source": [
    "nytt_objekt = Corpus(filename='korpus_test.json')\n"
   ]
  },
  {
   "cell_type": "markdown",
   "metadata": {},
   "source": [
    "\n",
    "Sjekk at *nytt_objekt* gjør det samme som det opprinnelige korpuset."
   ]
  },
  {
   "cell_type": "code",
   "execution_count": null,
   "metadata": {},
   "outputs": [],
   "source": [
    "nytt_objekt.difference()"
   ]
  },
  {
   "cell_type": "code",
   "execution_count": null,
   "metadata": {},
   "outputs": [],
   "source": [
    "nb.cloud(nytt_objekt.difference(aslist=False))"
   ]
  },
  {
   "cell_type": "code",
   "execution_count": null,
   "metadata": {},
   "outputs": [],
   "source": []
  },
  {
   "cell_type": "code",
   "execution_count": null,
   "metadata": {},
   "outputs": [],
   "source": []
  }
 ],
 "metadata": {
  "hide_input": false,
  "kernelspec": {
   "display_name": "Python 3",
   "language": "python",
   "name": "python3"
  },
  "language_info": {
   "codemirror_mode": {
    "name": "ipython",
    "version": 3
   },
   "file_extension": ".py",
   "mimetype": "text/x-python",
   "name": "python",
   "nbconvert_exporter": "python",
   "pygments_lexer": "ipython3",
   "version": "3.6.4"
  }
 },
 "nbformat": 4,
 "nbformat_minor": 2
}
