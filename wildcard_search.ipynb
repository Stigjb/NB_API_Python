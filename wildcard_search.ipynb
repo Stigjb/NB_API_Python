{
 "cells": [
  {
   "cell_type": "markdown",
   "metadata": {},
   "source": [
    "# Søk med jokertegn - wildcard\n",
    "\n"
   ]
  },
  {
   "cell_type": "code",
   "execution_count": 1,
   "metadata": {},
   "outputs": [],
   "source": [
    "import pandas as pd\n",
    "import requests"
   ]
  },
  {
   "cell_type": "code",
   "execution_count": 2,
   "metadata": {},
   "outputs": [],
   "source": [
    "def wildcardsearch(params = {'word': '', 'freq_lim':50, 'limit':50, 'factor':2}):\n",
    "    res = requests.get('https://api.nb.no/ngram/wildcards', params = params)\n",
    "    if res.status_code == 200:\n",
    "        result = res.json()\n",
    "    else:\n",
    "        result = {'status':'noe gikk galt'}\n",
    "    resultat = pd.DataFrame.from_dict(result, orient='index')\n",
    "    if not(resultat.empty):\n",
    "        resultat.columns = [params['word']]\n",
    "    return resultat\n",
    "\n",
    "def sorted_wildcardsearch(params):\n",
    "    res = wildcardsearch(params)\n",
    "    if not res.empty:\n",
    "        res = res.sort_values(by=params['word'], ascending=False)\n",
    "    return res"
   ]
  },
  {
   "cell_type": "markdown",
   "metadata": {},
   "source": [
    "### Legg inn ordet det søkes etter med * for åpne plasser.\n",
    "\n",
    "Sånn sett er det et vanlig søk med * som jokertegn. Parameteret factor bestemmer størrelsen på søket, og vil være det som gir en slags Levenshtein-effekt. Hvis du ønsker å se på sammensetninger økes factor til å få med det. Det blir feil om jokertegnet står først, så søket må startes med en eller flere bokstaver, jo fler bokstaver i starten, desto raskere går søket!\n"
   ]
  },
  {
   "cell_type": "code",
   "execution_count": 7,
   "metadata": {},
   "outputs": [],
   "source": [
    "x = sorted_wildcardsearch(\n",
    "    {\n",
    "        'word': 'krig*',   # her legges selve søkeordet inn\n",
    "        'factor':20,     # factor bestemmer hvor mye lenger treffene skal være enn ordet med jokertegn.\n",
    "        'freq_lim':100, # sett begrensninger på frekvensen, minimumsverdi\n",
    "        'limit':50    # begrensning på antall treff\n",
    "        \n",
    "    })"
   ]
  },
  {
   "cell_type": "code",
   "execution_count": 10,
   "metadata": {},
   "outputs": [
    {
     "data": {
      "text/plain": [
       "['krigen',\n",
       " 'krig',\n",
       " 'krigens',\n",
       " 'kriger',\n",
       " 'krigere',\n",
       " 'krigsskip',\n",
       " 'krigsårene',\n",
       " 'krigføring',\n",
       " 'krigsfanger',\n",
       " 'krigerske',\n",
       " 'krigerne',\n",
       " 'krigene',\n",
       " 'krigsutbruddet',\n",
       " 'krigersk',\n",
       " 'krigførende',\n",
       " 'kriget',\n",
       " 'krigstid',\n",
       " 'krige',\n",
       " 'krigeren',\n",
       " 'krigstjeneste',\n",
       " 'krigsåra',\n",
       " 'krigs-',\n",
       " 'krigs',\n",
       " 'krigføringen',\n",
       " 'krigshandlinger',\n",
       " 'krigstiden',\n",
       " 'krigsrett',\n",
       " 'krigsmateriell',\n",
       " 'krigsfangene',\n",
       " 'krigsfange',\n",
       " 'krigar',\n",
       " 'krigshandlingene',\n",
       " 'krigserklæring',\n",
       " 'krigsmakt',\n",
       " 'krigen.',\n",
       " 'krigsbytte',\n",
       " 'krigsråd',\n",
       " 'krigstilstand',\n",
       " 'krigsår',\n",
       " 'krigsinnsats',\n",
       " 'krigen,',\n",
       " 'krigsskipene',\n",
       " 'krigstida',\n",
       " 'krigsminister',\n",
       " 'krigsskolen',\n",
       " 'krigsstien',\n",
       " 'krigsforbrytelser',\n",
       " 'krigsherjede',\n",
       " 'krigssituasjon',\n",
       " 'krigsfare']"
      ]
     },
     "execution_count": 10,
     "metadata": {},
     "output_type": "execute_result"
    }
   ],
   "source": [
    "list(x.index)"
   ]
  },
  {
   "cell_type": "code",
   "execution_count": 21,
   "metadata": {},
   "outputs": [
    {
     "data": {
      "text/html": [
       "<div>\n",
       "<style>\n",
       "    .dataframe thead tr:only-child th {\n",
       "        text-align: right;\n",
       "    }\n",
       "\n",
       "    .dataframe thead th {\n",
       "        text-align: left;\n",
       "    }\n",
       "\n",
       "    .dataframe tbody tr th {\n",
       "        vertical-align: top;\n",
       "    }\n",
       "</style>\n",
       "<table border=\"1\" class=\"dataframe\">\n",
       "  <thead>\n",
       "    <tr style=\"text-align: right;\">\n",
       "      <th></th>\n",
       "      <th></th>\n",
       "    </tr>\n",
       "  </thead>\n",
       "  <tbody>\n",
       "    <tr>\n",
       "      <th>status</th>\n",
       "      <td>noe gikk galt</td>\n",
       "    </tr>\n",
       "  </tbody>\n",
       "</table>\n",
       "</div>"
      ],
      "text/plain": [
       "                     \n",
       "status  noe gikk galt"
      ]
     },
     "execution_count": 21,
     "metadata": {},
     "output_type": "execute_result"
    }
   ],
   "source": [
    "wildcardsearch()"
   ]
  }
 ],
 "metadata": {
  "kernelspec": {
   "display_name": "Python 3",
   "language": "python",
   "name": "python3"
  },
  "language_info": {
   "codemirror_mode": {
    "name": "ipython",
    "version": 3
   },
   "file_extension": ".py",
   "mimetype": "text/x-python",
   "name": "python",
   "nbconvert_exporter": "python",
   "pygments_lexer": "ipython3",
   "version": "3.6.4"
  }
 },
 "nbformat": 4,
 "nbformat_minor": 2
}
