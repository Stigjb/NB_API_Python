{
 "cells": [
  {
   "cell_type": "markdown",
   "metadata": {},
   "source": [
    "# Undersøk korpus med metadata og konkordans\n",
    "\n",
    "Konkordanser gir oppslagt for nøkkelord i en kontekst, også kjent under akronymet [KWIC](https://en.wikipedia.org/wiki/Key_Word_in_Context). Kommandoene som benyttes er get_konk (eller nb.get_konk), og ligger klar i modulen nbtext.\n",
    "\n",
    "Gjør API-et aktivt ved å kjøre cellen under."
   ]
  },
  {
   "cell_type": "code",
   "execution_count": 1,
   "metadata": {},
   "outputs": [],
   "source": [
    "import nbtext as nb\n",
    "from nbtext import get_konk, get_urnkonk, urn_from_text\n",
    "%matplotlib inline"
   ]
  },
  {
   "cell_type": "markdown",
   "metadata": {},
   "source": [
    "## Konkordanser\n",
    "\n",
    "Det minste som må spesifiseres for kommandoen *get_konk()* er et ord."
   ]
  },
  {
   "cell_type": "code",
   "execution_count": 3,
   "metadata": {},
   "outputs": [
    {
     "data": {
      "text/html": [
       "<table><tr>\n",
       "                <td>\n",
       "                    <a href='http://www.nb.no/items/URN:NBN:no-nb_digibok_2011042808085' target='_'>,Feite forestillinger,2003</a>\n",
       "                    <td>klubber spares dere for masse</td>\n",
       "                    <td>arbeid</td>\n",
       "                    <td style='text-align:left'>( se i Verktøykassa på</td>\n",
       "                    </tr>\n",
       "<tr>\n",
       "                <td>\n",
       "                    <a href='http://www.nb.no/items/URN:NBN:no-nb_digibok_2011042808085' target='_'>,Feite forestillinger,2003</a>\n",
       "                    <td>ansvarlighet for andres tid og</td>\n",
       "                    <td>arbeid</td>\n",
       "                    <td style='text-align:left'>. å opptre aktsomt og</td>\n",
       "                    </tr>\n",
       "<tr>\n",
       "                <td>\n",
       "                    <a href='http://www.nb.no/items/URN:NBN:no-nb_digibok_2011042808085' target='_'>,Feite forestillinger,2003</a>\n",
       "                    <td>studenter , skiftarbeidere eller uten</td>\n",
       "                    <td>arbeid</td>\n",
       "                    <td style='text-align:left'>i det hele tatt ,</td>\n",
       "                    </tr>\n",
       "<tr>\n",
       "                <td>\n",
       "                    <a href='http://www.nb.no/items/URN:NBN:no-nb_digibok_2011042808085' target='_'>,Feite forestillinger,2003</a>\n",
       "                    <td>■ Publikumsrettet</td>\n",
       "                    <td>arbeid</td>\n",
       "                    <td style='text-align:left'>som bygger varig tillit og</td>\n",
       "                    </tr>\n",
       "<tr>\n",
       "                <td>\n",
       "                    <a href='http://www.nb.no/items/URN:NBN:no-nb_digibok_2013120206185' target='_'>Belsvik, Rune,Dustefjerten,2009</a>\n",
       "                    <td>Grøftegraving var eit passeleg strevsamt</td>\n",
       "                    <td>arbeid</td>\n",
       "                    <td style='text-align:left'>. Det gjorde ein både</td>\n",
       "                    </tr>\n",
       "<tr>\n",
       "                <td>\n",
       "                    <a href='http://www.nb.no/items/URN:NBN:no-nb_digibok_2013120206185' target='_'>Belsvik, Rune,Dustefjerten,2009</a>\n",
       "                    <td>- Eg har</td>\n",
       "                    <td>arbeid</td>\n",
       "                    <td style='text-align:left'>å gjera . Den som</td>\n",
       "                    </tr>\n",
       "<tr>\n",
       "                <td>\n",
       "                    <a href='http://www.nb.no/items/URN:NBN:no-nb_digibok_2013120206185' target='_'>Belsvik, Rune,Dustefjerten,2009</a>\n",
       "                    <td>. Det er eit skummelt</td>\n",
       "                    <td>arbeid</td>\n",
       "                    <td style='text-align:left'>. Men nokon må gjera</td>\n",
       "                    </tr>\n",
       "<tr>\n",
       "                <td>\n",
       "                    <a href='http://www.nb.no/items/URN:NBN:no-nb_digibok_2013120206185' target='_'>Belsvik, Rune,Dustefjerten,2009</a>\n",
       "                    <td>av dagen . Eg har</td>\n",
       "                    <td>arbeid</td>\n",
       "                    <td style='text-align:left'>av tusen slag som må</td>\n",
       "                    </tr>\n",
       "<tr>\n",
       "                <td>\n",
       "                    <a href='http://www.nb.no/items/URN:NBN:no-nb_digibok_2013100106153' target='_'>Ohlsson, Anders,Motor,2010</a>\n",
       "                    <td>og tryggleik i samband med</td>\n",
       "                    <td>arbeid</td>\n",
       "                    <td style='text-align:left'>på køyretøy velje og bruke</td>\n",
       "                    </tr>\n",
       "<tr>\n",
       "                <td>\n",
       "                    <a href='http://www.nb.no/items/URN:NBN:no-nb_digibok_2013100106153' target='_'>Ohlsson, Anders,Motor,2010</a>\n",
       "                    <td>Frå varme til mekanisk</td>\n",
       "                    <td>arbeid</td>\n",
       "                    <td style='text-align:left'>None</td>\n",
       "                    </tr>\n",
       "<tr>\n",
       "                <td>\n",
       "                    <a href='http://www.nb.no/items/URN:NBN:no-nb_digibok_2013100106153' target='_'>Ohlsson, Anders,Motor,2010</a>\n",
       "                    <td>seg og gjer eit mekanisk</td>\n",
       "                    <td>arbeid</td>\n",
       "                    <td style='text-align:left'>. I ein bilmotor gir</td>\n",
       "                    </tr>\n",
       "<tr>\n",
       "                <td>\n",
       "                    <a href='http://www.nb.no/items/URN:NBN:no-nb_digibok_2013100106153' target='_'>Ohlsson, Anders,Motor,2010</a>\n",
       "                    <td>. Rørsla gir eit mekanisk</td>\n",
       "                    <td>arbeid</td>\n",
       "                    <td style='text-align:left'>i stempel , veivstong og</td>\n",
       "                    </tr>\n",
       "<tr>\n",
       "                <td>\n",
       "                    <a href='http://www.nb.no/items/URN:NBN:no-nb_digibok_2007052500051' target='_'>,Universitetet og samfunnet,1968</a>\n",
       "                    <td>rekkje nve bOker er i</td>\n",
       "                    <td>arbeid</td>\n",
       "                    <td style='text-align:left'>.</td>\n",
       "                    </tr>\n",
       "<tr>\n",
       "                <td>\n",
       "                    <a href='http://www.nb.no/items/URN:NBN:no-nb_digibok_2007052500051' target='_'>,Universitetet og samfunnet,1968</a>\n",
       "                    <td>tenke på mange slags administrativt</td>\n",
       "                    <td>arbeid</td>\n",
       "                    <td style='text-align:left'>hvor en nå gjerne bruker</td>\n",
       "                    </tr>\n",
       "<tr>\n",
       "                <td>\n",
       "                    <a href='http://www.nb.no/items/URN:NBN:no-nb_digibok_2007052500051' target='_'>,Universitetet og samfunnet,1968</a>\n",
       "                    <td>så nyttig . Mye administrativt</td>\n",
       "                    <td>arbeid</td>\n",
       "                    <td style='text-align:left'>går jo i virkeligheten ut</td>\n",
       "                    </tr>\n",
       "<tr>\n",
       "                <td>\n",
       "                    <a href='http://www.nb.no/items/URN:NBN:no-nb_digibok_2007052500051' target='_'>,Universitetet og samfunnet,1968</a>\n",
       "                    <td>tid og krefter til aktivt</td>\n",
       "                    <td>arbeid</td>\n",
       "                    <td style='text-align:left'>med slike saker . Min</td>\n",
       "                    </tr>\n",
       "</table>"
      ],
      "text/plain": [
       "<IPython.core.display.HTML object>"
      ]
     },
     "execution_count": 3,
     "metadata": {},
     "output_type": "execute_result"
    }
   ],
   "source": [
    "get_konk('arbeid')"
   ]
  },
  {
   "cell_type": "markdown",
   "metadata": {},
   "source": [
    "Kommandoen *get_konk()* tar parametre for å begrense søket - noen er satt opp med defaultverdier. Parametrene er en måte spesifisere et korpus på, men se nedenfor for andre måter å gjøre akkurat det på."
   ]
  },
  {
   "cell_type": "code",
   "execution_count": null,
   "metadata": {},
   "outputs": [],
   "source": [
    "get_konk('arbeid', {'size':10, 'corpus':'bok', 'before':8, 'after':8, 'author':'hamsun%'})"
   ]
  },
  {
   "cell_type": "markdown",
   "metadata": {},
   "source": [
    "### Samme konk mot aviser  (kan ta litt tid)"
   ]
  },
  {
   "cell_type": "markdown",
   "metadata": {},
   "source": [
    "Bøker og aviser deler litt på egenskaper. Foruten årstall vil for eksempel 'title' gjøre begrensing på boktitler for bøker, og avisnavn for aviser. Årstall begrenser utgivelsesår."
   ]
  },
  {
   "cell_type": "code",
   "execution_count": null,
   "metadata": {},
   "outputs": [],
   "source": [
    "get_konk('arbeid', {'size':5, 'title':'aftenposten','corpus':'avis', 'yearfrom':1950, 'yearto':1955})"
   ]
  },
  {
   "cell_type": "markdown",
   "metadata": {},
   "source": [
    "## Bygge korpus med bøker\n",
    "\n",
    "Får å bygge et korpus av bøker (korpus med aviser er i kjømda) brukes kommandoen *get_urn()* med nesten de samme parametrene som for *get_konk()*.\n",
    "\n",
    "Man kan også finne URN-er i bokhylla, eller lage en liste med URN-er i en tekstfil og bruke kommandoen *urn_from_text()*. Se nedenfor."
   ]
  },
  {
   "cell_type": "markdown",
   "metadata": {},
   "source": [
    "#### get_urn()\n",
    "\n",
    "Kommandoen *get_urn()* gir et tilfeldig utvalg bøker innenfor spesifikasjonene.\n",
    "Aktiver cellen under et par ganger for å se effekten."
   ]
  },
  {
   "cell_type": "code",
   "execution_count": null,
   "metadata": {},
   "outputs": [],
   "source": [
    "nb.get_urn()"
   ]
  },
  {
   "cell_type": "markdown",
   "metadata": {},
   "source": [
    "### Med kriterier\n",
    "\n",
    "Vanligvis vil vi begrense korpuset til et helt spesifikt sett av bøker. Kriteriene er de vanlige som forfatter, tittel og år, i tillegg kommer kjønn (gender), tema (subject) og Dewey (ddk).\n",
    "\n",
    "Her settes dataene opp på formen\n",
    "\n",
    "    navn = definisjon\n",
    "    navn\n",
    "\n",
    "Første linje definerer navnet, andre viser innholdet. Husk å endre *navn* når cellene kopieres!"
   ]
  },
  {
   "cell_type": "code",
   "execution_count": null,
   "metadata": {},
   "outputs": [],
   "source": [
    "krig = nb.get_urn({'gender':'f', 'subject':'krig', 'ddk':'9%', 'year':1950, 'next':50, 'limit':30})\n",
    "krig"
   ]
  },
  {
   "cell_type": "code",
   "execution_count": null,
   "metadata": {},
   "outputs": [],
   "source": [
    "finnmark = nb.get_urn({'gender':'%', 'subject':'finnmark', 'lang':'nob', 'year':1950, 'next':50,'limit':5})\n",
    "finnmark"
   ]
  },
  {
   "cell_type": "code",
   "execution_count": null,
   "metadata": {},
   "outputs": [],
   "source": [
    "trønder = nb.get_urn({'gender':'f', 'subject':'trondheim', 'ddk':'9%', 'year':1950, 'next':50,'limit':30})\n",
    "trønder"
   ]
  },
  {
   "cell_type": "markdown",
   "metadata": {},
   "source": [
    "## Konkordanser med URNer\n",
    "\n",
    "Kommandoen er *get_urnkonk()* som bruker URNer i stedet for metadata."
   ]
  },
  {
   "cell_type": "code",
   "execution_count": null,
   "metadata": {},
   "outputs": [],
   "source": [
    "get_urnkonk('soldater', {'urns':krig, 'before':8, 'after':8, 'size':14}, html=True)"
   ]
  },
  {
   "cell_type": "code",
   "execution_count": null,
   "metadata": {},
   "outputs": [],
   "source": []
  }
 ],
 "metadata": {
  "hide_input": false,
  "kernelspec": {
   "display_name": "Python 3",
   "language": "python",
   "name": "python3"
  },
  "language_info": {
   "codemirror_mode": {
    "name": "ipython",
    "version": 3
   },
   "file_extension": ".py",
   "mimetype": "text/x-python",
   "name": "python",
   "nbconvert_exporter": "python",
   "pygments_lexer": "ipython3",
   "version": "3.6.5"
  }
 },
 "nbformat": 4,
 "nbformat_minor": 2
}
