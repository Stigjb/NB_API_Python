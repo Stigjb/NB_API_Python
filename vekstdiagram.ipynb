{
 "cells": [
  {
   "cell_type": "markdown",
   "metadata": {},
   "source": [
    "## Kode for vekstdiagram og grafer"
   ]
  },
  {
   "cell_type": "code",
   "execution_count": 2,
   "metadata": {},
   "outputs": [],
   "source": [
    "import nbtext as nb\n",
    "from nbtext import vekstdiagram, make_graph, get_urn, relaterte_ord\n",
    "\n",
    "%matplotlib inline"
   ]
  },
  {
   "cell_type": "markdown",
   "metadata": {},
   "source": [
    "## Finn bøker\n",
    "\n",
    "Benytt kommandoen _get_urn()_ for å hente urner basert på kategorier av bøker"
   ]
  },
  {
   "cell_type": "code",
   "execution_count": 3,
   "metadata": {},
   "outputs": [
    {
     "name": "stdout",
     "output_type": "stream",
     "text": [
      "Antall verk:  31\n"
     ]
    }
   ],
   "source": [
    "# Hent URN-er, lag korpus med get_urn()\n",
    "\n",
    "urner = get_urn({\n",
    "    'author':'masterson%lou%', \n",
    "    'year':1900, \n",
    "    'neste':160,\n",
    "    'limit':100,\n",
    "    'title':'%kane%'\n",
    "    \n",
    "})\n",
    "\n",
    "print('Antall verk: ', len(urner))"
   ]
  },
  {
   "cell_type": "code",
   "execution_count": null,
   "metadata": {},
   "outputs": [],
   "source": [
    "# Vis flere treff med urner[fra:til]\n",
    "for i in range(len(urner)):\n",
    "    print(i, urner[i])"
   ]
  },
  {
   "cell_type": "code",
   "execution_count": 4,
   "metadata": {},
   "outputs": [
    {
     "data": {
      "text/plain": [
       "[[2013041608022, 'Masterson, Louis', 'Ingen tårer for Morgan Kane', 1967],\n",
       " [2011100608069,\n",
       "  'Masterson, Louis',\n",
       "  'Duell i Tombstone ; Dette er døden, señor Kane',\n",
       "  2005],\n",
       " [2014100338012, 'Masterson, Louis', \"Oklahoma terror ; Kane's colt\", 2006],\n",
       " [2013042338041, 'Masterson, Louis', '\"Killer\" Kane', 1970],\n",
       " [2014060408222,\n",
       "  'Masterson, Louis',\n",
       "  'Kanes stjerne ; Heltene er trette',\n",
       "  2008],\n",
       " [2014030606053,\n",
       "  'Masterson, Louis',\n",
       "  'Satans horn ; Morgan Kane og \"The Wild Bunch\"',\n",
       "  2007],\n",
       " [2013042508132, 'Masterson, Louis', \"I Morgan Kane's fotspor\", 1975],\n",
       " [2012062205112, 'Masterson, Louis', 'Morgan Kane og smuglerne', 2010],\n",
       " [2013070108115, 'Masterson, Louis', \"Kane's likemann\", 1970],\n",
       " [2007071601101, 'Masterson, Louis', 'Legenden om Morgan Kane', 1973],\n",
       " [2010092808038, 'Masterson, Louis', \"Kane's våpen\", 1974],\n",
       " [2013070108111, 'Masterson, Louis', 'Morgan Kane og \"The wild bunch\"', 1980],\n",
       " [2013052908062, 'Masterson, Louis', 'Morgan Kane - menneskejeger', 1975],\n",
       " [2013070108066, 'Masterson, Louis', \"Morgan Kane's lov\", 1974],\n",
       " [2013060708079, 'Masterson, Louis', 'Satans Kane!', 1976],\n",
       " [2016060108119, 'Masterson, Louis', \"Kane's likemann\", 1970],\n",
       " [2013070108110, 'Masterson, Louis', 'Morgan Kane - menneskejeger', 1971],\n",
       " [2007070300049, 'Masterson, Louis', '\"Killer\" Kane', 1981],\n",
       " [2015111008045, 'Masterson, Louis', 'Dette er døden, sẽnor Kane', 1980],\n",
       " [2009012204004,\n",
       "  'Masterson, Louis',\n",
       "  'I Morgan Kanes fotspor ; Blodsporet til Santa Fe',\n",
       "  2002],\n",
       " [2015102208249, 'Masterson, Louis', \"Kane's colt\", 1975],\n",
       " [2013041908141, 'Masterson, Louis', \"Kane's våpen\", 1971],\n",
       " [2014100338013, 'Masterson, Louis', \"Menneskejeger ; Kane's kvinner\", 2007],\n",
       " [2007081700037, 'Masterson, Louis', 'Ingen tårer for Morgan Kane', 1989],\n",
       " [2015111008044, 'Masterson, Louis', 'Morgan Kane og \"The Wild Bunch\"', 1976],\n",
       " [2014060408186, 'Masterson, Louis', 'Cuba libre! ; Satans Kane!', 2008],\n",
       " [2013042308035, 'Masterson, Louis', \"Kane's stjerne\", 1985],\n",
       " [2013042508134, 'Masterson, Louis', \"Kane's colt\", 1971],\n",
       " [2013080808047, 'Masterson, Louis', \"I Morgan Kane's fotspor\", 1980],\n",
       " [2013070108113, 'Masterson, Louis', \"Kane's kvinner\", 1974],\n",
       " [2014062405095, 'Masterson, Louis', 'Dette er døden, señor Kane', 2011]]"
      ]
     },
     "execution_count": 4,
     "metadata": {},
     "output_type": "execute_result"
    }
   ],
   "source": [
    "urner"
   ]
  },
  {
   "cell_type": "markdown",
   "metadata": {},
   "source": [
    "Indeksen kan brukes sammen **urner[]** for å referere til en bok. Referansen og **urner[]** kan brukes om hverandre. "
   ]
  },
  {
   "cell_type": "code",
   "execution_count": null,
   "metadata": {},
   "outputs": [],
   "source": [
    "urner[14]"
   ]
  },
  {
   "cell_type": "markdown",
   "metadata": {},
   "source": [
    "### Sett av ord for å sjekke mot. \n",
    "\n",
    "For å lage et sett ord, er det ikke verre enn å bare liste opp ord som kan passe. For hjelp til å konstruere et passende sett av ord er kommandoen `relaterte_ord(startord)` grei å bruke; den samler sammen en del ord semantisk knyttet til `startord`. Samme operasjon som vises under galakser i NB N-gram."
   ]
  },
  {
   "cell_type": "code",
   "execution_count": null,
   "metadata": {},
   "outputs": [],
   "source": [
    "kampord = \"\"\"kuler kulen kulene revolver revolveren\n",
    "gevær geværet krutt kruttet hylse hylsen\n",
    "skuddet sår skudd såret blod blodet skadet\n",
    "skadene slag slagene slaget spark sparket\"\"\".split()"
   ]
  },
  {
   "cell_type": "code",
   "execution_count": null,
   "metadata": {},
   "outputs": [],
   "source": [
    "kjipt = relaterte_ord('jævlig, ond, ondsinnet, mobber, voldelig', 40)\n",
    "kjipt"
   ]
  },
  {
   "cell_type": "code",
   "execution_count": null,
   "metadata": {},
   "outputs": [],
   "source": [
    "kjærlighet = relaterte_ord('kjærlighet, vennskap, trofasthet, venn, venninne', 40)"
   ]
  },
  {
   "cell_type": "code",
   "execution_count": null,
   "metadata": {},
   "outputs": [],
   "source": [
    "kjærlighet"
   ]
  },
  {
   "cell_type": "code",
   "execution_count": null,
   "metadata": {},
   "outputs": [],
   "source": [
    "positive = relaterte_ord('glad')"
   ]
  },
  {
   "cell_type": "code",
   "execution_count": null,
   "metadata": {},
   "outputs": [],
   "source": [
    "tilfeldige_ord =  \"revolver hjalp snerret freste tennene pannen nevene neven hansken Smith beltet kinnet slaget kulen kulene skuddet traff sneiet ørken hesten\".split()"
   ]
  },
  {
   "cell_type": "markdown",
   "metadata": {
    "collapsed": true
   },
   "source": [
    "## Lag et vekstdiagram for bøker i korpuset\n",
    "\n",
    "Bruk et av elementene i trefflisten"
   ]
  },
  {
   "cell_type": "code",
   "execution_count": null,
   "metadata": {},
   "outputs": [],
   "source": [
    "vekstdiagram(2013070108111, {'words': kjipt, 'window':5000, 'pr':100}).plot()"
   ]
  },
  {
   "cell_type": "code",
   "execution_count": null,
   "metadata": {},
   "outputs": [],
   "source": [
    "vekstdiagram(2013070108111,{'words': positive, 'window':5000, 'pr':100}).plot()"
   ]
  },
  {
   "cell_type": "code",
   "execution_count": null,
   "metadata": {},
   "outputs": [],
   "source": [
    "vekstdiagram(2013070108111,{'words': tilfeldige_ord, 'window':5000, 'pr':100}).plot()"
   ]
  },
  {
   "cell_type": "markdown",
   "metadata": {},
   "source": [
    "## Plott sammen"
   ]
  },
  {
   "cell_type": "code",
   "execution_count": null,
   "metadata": {},
   "outputs": [],
   "source": [
    "nb.plot_sammen_vekst(2013070108111, [kjipt, kjærlighet], window =5000,pr=50 ).plot(figsize=(15,8));"
   ]
  },
  {
   "cell_type": "code",
   "execution_count": null,
   "metadata": {},
   "outputs": [],
   "source": [
    "nb.check_words(2013070108111, kjipt)"
   ]
  },
  {
   "cell_type": "code",
   "execution_count": null,
   "metadata": {},
   "outputs": [],
   "source": [
    "nb.check_words(urner[14], tilfeldige_ord)"
   ]
  },
  {
   "cell_type": "code",
   "execution_count": null,
   "metadata": {},
   "outputs": [],
   "source": [
    "kjip_graf=nb.make_network(urner[10], tilfeldige_ord)"
   ]
  },
  {
   "cell_type": "code",
   "execution_count": null,
   "metadata": {},
   "outputs": [],
   "source": [
    "nb.draw_graph_centrality(kjip_graf, k=2)"
   ]
  }
 ],
 "metadata": {
  "hide_input": false,
  "kernelspec": {
   "display_name": "Python 3",
   "language": "python",
   "name": "python3"
  },
  "language_info": {
   "codemirror_mode": {
    "name": "ipython",
    "version": 3
   },
   "file_extension": ".py",
   "mimetype": "text/x-python",
   "name": "python",
   "nbconvert_exporter": "python",
   "pygments_lexer": "ipython3",
   "version": "3.6.5"
  }
 },
 "nbformat": 4,
 "nbformat_minor": 2
}
