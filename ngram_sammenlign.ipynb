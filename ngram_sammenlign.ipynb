{
 "cells": [
  {
   "cell_type": "markdown",
   "metadata": {},
   "source": [
    "# En analyse av ngrammer\n",
    "\n",
    "Det her er en oppstartsnotebook som skal gjøre deg kjent med funksjonaliteten, hvordan celler endres og hvordan en hypotese kan undersøkes med kvantitative data.  Temaet er kjønn og Beauvoirs tese om at kvinnen er sekundær, etter mannen, i vestlig kultur, og at kvinnen er knyttet mer til passive egenskaper, mens mannen er en agens. \n",
    "\n",
    "Måten vi undersøker hypotesen med tallmateriale er å se hva som sies om menn og kvinner, og et sted å starte er å telle pronomener. Metodikken er knyttet til relativ forekomst av ord og uttrykk sammen med de norske kjønnede pronomene *han* og *hun*."
   ]
  },
  {
   "cell_type": "markdown",
   "metadata": {},
   "source": [
    "## Kommandoene som skal benyttes ligger i modulen *nbtext*"
   ]
  },
  {
   "cell_type": "code",
   "execution_count": 2,
   "metadata": {},
   "outputs": [],
   "source": [
    "import nbtext as nb\n",
    "from nbtext import difference\n",
    "%matplotlib inline"
   ]
  },
  {
   "cell_type": "markdown",
   "metadata": {},
   "source": [
    "### Henter data fra ngram-basen\n",
    "\n",
    "Bruk kommandoen *nb_ngram()* for hente ngrammer, det som står mellom ' ' eller \" \" er det samme som skrives i versjonen på [web](https://www.nb.no/sp_tjenester/beta/ngram_1/trends#ngram/query?terms=i%2C+p%C3%A5&lang=all&case_sens=0&freq=rel&corpus=bok)."
   ]
  },
  {
   "cell_type": "code",
   "execution_count": 3,
   "metadata": {},
   "outputs": [
    {
     "data": {
      "text/html": [
       "<div>\n",
       "<style scoped>\n",
       "    .dataframe tbody tr th:only-of-type {\n",
       "        vertical-align: middle;\n",
       "    }\n",
       "\n",
       "    .dataframe tbody tr th {\n",
       "        vertical-align: top;\n",
       "    }\n",
       "\n",
       "    .dataframe thead th {\n",
       "        text-align: right;\n",
       "    }\n",
       "</style>\n",
       "<table border=\"1\" class=\"dataframe\">\n",
       "  <thead>\n",
       "    <tr style=\"text-align: right;\">\n",
       "      <th></th>\n",
       "      <th>han</th>\n",
       "      <th>hun</th>\n",
       "    </tr>\n",
       "  </thead>\n",
       "  <tbody>\n",
       "    <tr>\n",
       "      <th>1980</th>\n",
       "      <td>0.560826</td>\n",
       "      <td>0.184280</td>\n",
       "    </tr>\n",
       "    <tr>\n",
       "      <th>1981</th>\n",
       "      <td>0.528530</td>\n",
       "      <td>0.178862</td>\n",
       "    </tr>\n",
       "    <tr>\n",
       "      <th>1982</th>\n",
       "      <td>0.508471</td>\n",
       "      <td>0.189271</td>\n",
       "    </tr>\n",
       "    <tr>\n",
       "      <th>1983</th>\n",
       "      <td>0.475342</td>\n",
       "      <td>0.186673</td>\n",
       "    </tr>\n",
       "    <tr>\n",
       "      <th>1984</th>\n",
       "      <td>0.457172</td>\n",
       "      <td>0.162887</td>\n",
       "    </tr>\n",
       "    <tr>\n",
       "      <th>1985</th>\n",
       "      <td>0.546739</td>\n",
       "      <td>0.211806</td>\n",
       "    </tr>\n",
       "    <tr>\n",
       "      <th>1986</th>\n",
       "      <td>0.466456</td>\n",
       "      <td>0.208164</td>\n",
       "    </tr>\n",
       "    <tr>\n",
       "      <th>1987</th>\n",
       "      <td>0.501457</td>\n",
       "      <td>0.202460</td>\n",
       "    </tr>\n",
       "    <tr>\n",
       "      <th>1988</th>\n",
       "      <td>0.484661</td>\n",
       "      <td>0.204572</td>\n",
       "    </tr>\n",
       "    <tr>\n",
       "      <th>1989</th>\n",
       "      <td>0.450755</td>\n",
       "      <td>0.174308</td>\n",
       "    </tr>\n",
       "    <tr>\n",
       "      <th>1990</th>\n",
       "      <td>0.576608</td>\n",
       "      <td>0.273112</td>\n",
       "    </tr>\n",
       "    <tr>\n",
       "      <th>1991</th>\n",
       "      <td>0.651152</td>\n",
       "      <td>0.348276</td>\n",
       "    </tr>\n",
       "    <tr>\n",
       "      <th>1992</th>\n",
       "      <td>0.526630</td>\n",
       "      <td>0.249278</td>\n",
       "    </tr>\n",
       "    <tr>\n",
       "      <th>1993</th>\n",
       "      <td>0.507842</td>\n",
       "      <td>0.228312</td>\n",
       "    </tr>\n",
       "    <tr>\n",
       "      <th>1994</th>\n",
       "      <td>0.437163</td>\n",
       "      <td>0.198854</td>\n",
       "    </tr>\n",
       "    <tr>\n",
       "      <th>1995</th>\n",
       "      <td>0.438728</td>\n",
       "      <td>0.193542</td>\n",
       "    </tr>\n",
       "    <tr>\n",
       "      <th>1996</th>\n",
       "      <td>0.481107</td>\n",
       "      <td>0.228532</td>\n",
       "    </tr>\n",
       "    <tr>\n",
       "      <th>1997</th>\n",
       "      <td>0.483727</td>\n",
       "      <td>0.239608</td>\n",
       "    </tr>\n",
       "    <tr>\n",
       "      <th>1998</th>\n",
       "      <td>0.492249</td>\n",
       "      <td>0.253166</td>\n",
       "    </tr>\n",
       "    <tr>\n",
       "      <th>1999</th>\n",
       "      <td>0.496918</td>\n",
       "      <td>0.222177</td>\n",
       "    </tr>\n",
       "    <tr>\n",
       "      <th>2000</th>\n",
       "      <td>0.546125</td>\n",
       "      <td>0.267490</td>\n",
       "    </tr>\n",
       "  </tbody>\n",
       "</table>\n",
       "</div>"
      ],
      "text/plain": [
       "           han       hun\n",
       "1980  0.560826  0.184280\n",
       "1981  0.528530  0.178862\n",
       "1982  0.508471  0.189271\n",
       "1983  0.475342  0.186673\n",
       "1984  0.457172  0.162887\n",
       "1985  0.546739  0.211806\n",
       "1986  0.466456  0.208164\n",
       "1987  0.501457  0.202460\n",
       "1988  0.484661  0.204572\n",
       "1989  0.450755  0.174308\n",
       "1990  0.576608  0.273112\n",
       "1991  0.651152  0.348276\n",
       "1992  0.526630  0.249278\n",
       "1993  0.507842  0.228312\n",
       "1994  0.437163  0.198854\n",
       "1995  0.438728  0.193542\n",
       "1996  0.481107  0.228532\n",
       "1997  0.483727  0.239608\n",
       "1998  0.492249  0.253166\n",
       "1999  0.496918  0.222177\n",
       "2000  0.546125  0.267490"
      ]
     },
     "execution_count": 3,
     "metadata": {},
     "output_type": "execute_result"
    }
   ],
   "source": [
    "pron = nb.nb_ngram('han, hun', years = (1980, 2000), smooth=1, corpus='bok')\n",
    "pron"
   ]
  },
  {
   "cell_type": "markdown",
   "metadata": {},
   "source": [
    "## Resultatet er en dataramme\n",
    "\n",
    "Datarammer brukes flittig i alt fra ngrammer til tekstanalyse. Matrisene er en måte å representere kvantitative språklige data. Ikke så ulikt det noen kan være vant med fra excel-ark.\n",
    "\n",
    "Når en navn er knyttet til data, er det bare å skrive navnet i en celle for å se verdien, som gjort ovenfor. Vil du se et plot skriver du plot() bak variabelen."
   ]
  },
  {
   "cell_type": "code",
   "execution_count": 4,
   "metadata": {
    "scrolled": true
   },
   "outputs": [
    {
     "data": {
      "text/plain": [
       "<matplotlib.axes._subplots.AxesSubplot at 0x7fab939eb4e0>"
      ]
     },
     "execution_count": 4,
     "metadata": {},
     "output_type": "execute_result"
    },
    {
     "data": {
      "image/png": "[encoded data removed]",
      "text/plain": [
       "<matplotlib.figure.Figure at 0x7fab95852828>"
      ]
     },
     "metadata": {},
     "output_type": "display_data"
    }
   ],
   "source": [
    "pron.plot()"
   ]
  },
  {
   "cell_type": "markdown",
   "metadata": {},
   "source": [
    "Grafen viser tydelig at *han* forekommer oftere enn *hun*. Gir det et trygt grunnlag for å hevde at Beauvoir hadde rett? Vel, vi kan si så mye at det er rimelig å anta at det refereres mer til menn enn kvinner i norske bøker, og at det er en trend som holder seg godt over tid. Så på et nivå i kulturen følger kvinner etter menn. Dataene tar oss ikke til alle avkroker.\n",
    "\n",
    "Prøv en tilsvarende analyse med aviskorpuset."
   ]
  },
  {
   "cell_type": "markdown",
   "metadata": {},
   "source": [
    "Kolonnene i en dataramme kan summeres for å sammenligne forskjeller."
   ]
  },
  {
   "cell_type": "code",
   "execution_count": 5,
   "metadata": {},
   "outputs": [
    {
     "data": {
      "text/plain": [
       "2.3055829166005148"
      ]
     },
     "execution_count": 5,
     "metadata": {},
     "output_type": "execute_result"
    }
   ],
   "source": [
    "pron.mean()['han']/pron.mean()['hun']"
   ]
  },
  {
   "cell_type": "code",
   "execution_count": 6,
   "metadata": {},
   "outputs": [
    {
     "data": {
      "text/html": [
       "<div>\n",
       "<style scoped>\n",
       "    .dataframe tbody tr th:only-of-type {\n",
       "        vertical-align: middle;\n",
       "    }\n",
       "\n",
       "    .dataframe tbody tr th {\n",
       "        vertical-align: top;\n",
       "    }\n",
       "\n",
       "    .dataframe thead th {\n",
       "        text-align: right;\n",
       "    }\n",
       "</style>\n",
       "<table border=\"1\" class=\"dataframe\">\n",
       "  <thead>\n",
       "    <tr style=\"text-align: right;\">\n",
       "      <th></th>\n",
       "      <th>sum</th>\n",
       "    </tr>\n",
       "  </thead>\n",
       "  <tbody>\n",
       "    <tr>\n",
       "      <th>han</th>\n",
       "      <td>0.505651</td>\n",
       "    </tr>\n",
       "    <tr>\n",
       "      <th>hun</th>\n",
       "      <td>0.219316</td>\n",
       "    </tr>\n",
       "  </tbody>\n",
       "</table>\n",
       "</div>"
      ],
      "text/plain": [
       "          sum\n",
       "han  0.505651\n",
       "hun  0.219316"
      ]
     },
     "execution_count": 6,
     "metadata": {},
     "output_type": "execute_result"
    }
   ],
   "source": [
    "nb.frame(pron.mean(), 'sum')"
   ]
  },
  {
   "cell_type": "markdown",
   "metadata": {},
   "source": [
    "## Men hva med analyse og del to av Beauvoirs tese? \n",
    "\n",
    "Dataene i rammen *pron* kan divideres og ganges for å frem forskjeller. La oss se litt på det og undersøke forskjeller mellom maskuling og feminine referanser med utgangspunkt i forholdstallene over en periode. \n",
    "\n",
    "Utgangspunktet er forholdstallet mellom han og hun, skrevet som han/hun = 2.3. Det betyr at alle kontekster som har han i seg skal være omtrent 2.3 ganger høyere enn tilsvarende med hun. Er forskjellen større enn 2.3 er konteksten mer mannlig, tilsvarende kvinnelig om den er under 2.3. Utregningen er sånn at han/hun er grunnlinjen, slik at varianter som er høyere enn 1 trekker mot det mannlige, og under 1 mot det kvinnelige.\n",
    "\n",
    "For å sjekke forksjeller er det en kommando *difference()* som sjekker forholdet mellom 4 størrelser, de to siste vil i de første tilfellene var forholdet mellom *han* og *hun*. De to første er de som skal testes. Maskulin kontekst først, deretter feminin.\n",
    "\n"
   ]
  },
  {
   "cell_type": "code",
   "execution_count": 7,
   "metadata": {},
   "outputs": [
    {
     "data": {
      "text/plain": [
       "0.61843806809010804"
      ]
     },
     "execution_count": 7,
     "metadata": {},
     "output_type": "execute_result"
    }
   ],
   "source": [
    "difference('ham', 'henne', 'han','hun')"
   ]
  },
  {
   "cell_type": "code",
   "execution_count": 8,
   "metadata": {},
   "outputs": [
    {
     "data": {
      "text/plain": [
       "1.2200543525365617"
      ]
     },
     "execution_count": 8,
     "metadata": {},
     "output_type": "execute_result"
    }
   ],
   "source": [
    "difference('hans', 'hennes', 'han', 'hun')"
   ]
  },
  {
   "cell_type": "markdown",
   "metadata": {},
   "source": [
    "Det to siste gir støtte til del to av Beauvoirs tese. Dataene for ham/henne tyder på at hunkjønnspronomen er overrepresentert som objekt (men sjekk muligheten for at han også kan være objekt), og objekter er assosiert med det passive."
   ]
  },
  {
   "cell_type": "markdown",
   "metadata": {},
   "source": [
    "## Sjekk bigramkontekster\n",
    "\n",
    "Hvilke verb går sammen med pronomenene?"
   ]
  },
  {
   "cell_type": "code",
   "execution_count": 9,
   "metadata": {},
   "outputs": [
    {
     "data": {
      "text/plain": [
       "1.3381903819227337"
      ]
     },
     "execution_count": 9,
     "metadata": {},
     "output_type": "execute_result"
    }
   ],
   "source": [
    "nb.difference('han mener', 'hun mener', 'han', 'hun')"
   ]
  },
  {
   "cell_type": "code",
   "execution_count": 10,
   "metadata": {},
   "outputs": [
    {
     "data": {
      "text/plain": [
       "0.58222318164442544"
      ]
     },
     "execution_count": 10,
     "metadata": {},
     "output_type": "execute_result"
    }
   ],
   "source": [
    "nb.difference('han føler', 'hun føler', 'han', 'hun')"
   ]
  },
  {
   "cell_type": "code",
   "execution_count": 11,
   "metadata": {},
   "outputs": [
    {
     "data": {
      "text/plain": [
       "0.24425557325619277"
      ]
     },
     "execution_count": 11,
     "metadata": {},
     "output_type": "execute_result"
    }
   ],
   "source": [
    "nb.difference('han gråter', 'hun gråter', 'han', 'hun')"
   ]
  },
  {
   "cell_type": "markdown",
   "metadata": {},
   "source": [
    "## Test andre kontekster ved hjelp av *difference()*\n",
    "\n",
    "Husk at de to siste ordene danner basisforholdet, så om vi skriver\n",
    "\n",
    "    difference(t1, t2, r1, r2,..)\n",
    "    \n",
    "Så er uttrykket som regnes ut relativt til r1/r2 - i sin helhet (t1/t2)/(r1/r2). Tall over 1 heller mot det som uttrykkes i r1, tall under 1 går mot r2."
   ]
  },
  {
   "cell_type": "code",
   "execution_count": 12,
   "metadata": {},
   "outputs": [
    {
     "data": {
      "text/plain": [
       "3.9150311882029563"
      ]
     },
     "execution_count": 12,
     "metadata": {},
     "output_type": "execute_result"
    }
   ],
   "source": [
    "nb.difference('rike menn', 'rike kvinner', 'menn', 'kvinner')"
   ]
  },
  {
   "cell_type": "code",
   "execution_count": 13,
   "metadata": {},
   "outputs": [
    {
     "data": {
      "text/plain": [
       "0.28210767687060939"
      ]
     },
     "execution_count": 13,
     "metadata": {},
     "output_type": "execute_result"
    }
   ],
   "source": [
    "nb.difference('fattige menn', 'fattige kvinner', 'menn', 'kvinner')"
   ]
  },
  {
   "cell_type": "code",
   "execution_count": 14,
   "metadata": {},
   "outputs": [
    {
     "data": {
      "text/plain": [
       "'Mangler noen data - har bare for: smarte kvinner, menn, kvinner'"
      ]
     },
     "execution_count": 14,
     "metadata": {},
     "output_type": "execute_result"
    }
   ],
   "source": [
    "nb.difference('smarte menn', 'smarte kvinner', 'menn', 'kvinner')"
   ]
  },
  {
   "cell_type": "markdown",
   "metadata": {},
   "source": [
    "# Oppgave\n",
    "\n",
    "Repeter øvelsen med avisdata"
   ]
  },
  {
   "cell_type": "code",
   "execution_count": null,
   "metadata": {},
   "outputs": [],
   "source": [
    "nb.nb_ngram('han, hun', corpus='avis', years=(1980,2000),smooth=1).plot()"
   ]
  }
 ],
 "metadata": {
  "hide_input": false,
  "kernelspec": {
   "display_name": "Python 3",
   "language": "python",
   "name": "python3"
  },
  "language_info": {
   "codemirror_mode": {
    "name": "ipython",
    "version": 3
   },
   "file_extension": ".py",
   "mimetype": "text/x-python",
   "name": "python",
   "nbconvert_exporter": "python",
   "pygments_lexer": "ipython3",
   "version": "3.5.2"
  }
 },
 "nbformat": 4,
 "nbformat_minor": 2
}
